{
 "cells": [
  {
   "cell_type": "markdown",
   "metadata": {},
   "source": [
    "# 读取fasta作为输入序列"
   ]
  },
  {
   "cell_type": "code",
   "execution_count": null,
   "metadata": {},
   "outputs": [],
   "source": [
    "# 读取fasta文件作为字符串\n",
    "def read_fasta(file_path):\n",
    "    with open(file_path, 'r') as file:\n",
    "        sequences = {}\n",
    "        seq_name = None\n",
    "        seq = ''\n",
    "        for line in file:\n",
    "            line = line.strip()\n",
    "            if line.startswith('>'):\n",
    "                if seq_name:\n",
    "                    sequences[seq_name] = seq\n",
    "                seq_name = line[1:]  # 或者使用 line.split()[0][1:] 获取序列名称\n",
    "                seq = ''\n",
    "            else:\n",
    "                seq += line\n",
    "        if seq_name:\n",
    "            sequences[seq_name] = seq\n",
    "    return sequences\n",
    "\n"
   ]
  },
  {
   "cell_type": "code",
   "execution_count": null,
   "metadata": {},
   "outputs": [],
   "source": [
    "# 使用示例\n",
    "fileA = 'sequence (13.).fasta'\n",
    "\n",
    "sequences = read_fasta(fileA)\n",
    "print(sequences)"
   ]
  },
  {
   "cell_type": "code",
   "execution_count": null,
   "metadata": {},
   "outputs": [],
   "source": [
    "A = sequences['AF485760.1 Aeromonas hydrophila strain AHK1 aerolysin (aerA) gene, partial cds']"
   ]
  },
  {
   "cell_type": "code",
   "execution_count": null,
   "metadata": {},
   "outputs": [],
   "source": [
    "fileA = 'sequence (14.).fasta'\n",
    "sequences = read_fasta(fileA)\n",
    "print(sequences)"
   ]
  },
  {
   "cell_type": "code",
   "execution_count": null,
   "metadata": {},
   "outputs": [],
   "source": [
    "B = sequences['AF485759.1 Aeromonas hydrophila strain AHBHP3 aerolysin (aerA) gene, partial cds']"
   ]
  },
  {
   "cell_type": "markdown",
   "metadata": {},
   "source": [
    "# 草稿部分"
   ]
  },
  {
   "cell_type": "code",
   "execution_count": null,
   "metadata": {},
   "outputs": [],
   "source": [
    "%%time\n",
    "import numpy as np\n",
    "import pandas as pd\n",
    "# 伪代码中的参数\n",
    "a = -2  # gap 罚分 #这个例子是我手算的例子，用来修正算法\n",
    "b = -1  # mismatch 罚分 #这个例子是我手算的例子，用来修正算法\n",
    "c = 2  # match 奖励 #这个例子是我手算的例子，用来修正算法\n",
    "\n",
    "'''\n",
    "    a = -2  # gap 罚分\n",
    "    b = -1  # mismatch 罚分\n",
    "    c = 3  # match 奖励\n",
    "'''\n",
    "\n",
    "# 伪代码中的数据\n",
    "#A = \"ATCGGGCTACATCGGGCTACGGATCGGGCTACGAAAAAAAAAAAAAAAAAAAAAA\"\n",
    "#B = \"ATCGGATCGGGCTACGATCGGGCTACGATCGCGTTTTTTTAAAAAGAAAAAAAAGGGGGGGGTGTATTGTA\"\n",
    "#A = \"GATTACA\" #这个例子是我手算的例子，用来修正算法\n",
    "#B = \"GCATGCG\" #这个例子是我手算的例子，用来修正算法\n",
    "#A = \"ATCGGGCTACATCGGGCTACGGATCGGGCTACA\"\n",
    "#B = \"ATCGGATCGGGCTACGATCGGGCTACGATCGCG\"\n",
    "\n",
    "len_A = len(A)\n",
    "len_B = len(B)\n",
    "# 路径变量\n",
    "pathWays = []\n",
    "# 路径变量的初始值，矩阵的右下角是\n",
    "OrignLocus = (len(A), len(B))\n",
    "# 存储结果\n",
    "results = []\n",
    "# 创建大小为（len(A) + 1） x （len(B) + 1）的矩阵\n",
    "matrix = np.zeros((len_A + 1, len_B + 1))\n",
    "#matrix = pd.DataFrame(np.zeros((len_A + 1, len_B + 1)), index=['-']+list(A), columns=['-']+list(B))\n",
    "\n",
    "# 初始化第一行和第一列\n",
    "for i in range(len_A + 1):\n",
    "    matrix[i][0] = i * a\n",
    "\n",
    "for j in range(len_B + 1):\n",
    "    matrix[0][j] = j * a\n",
    "\n",
    "# 计算打分值\n",
    "for i in range(1, len_A + 1, 1):\n",
    "    # i的取值范围是从1到len(A)+1，在这个例子里是0-6\n",
    "    for j in range(1, len_B + 1, 1):\n",
    "        # 计算矩阵(i,j)处的值\n",
    "        if A[i-1] != B[j-1]:\n",
    "            # 如果不相等，就是mismatch\n",
    "            matrix[i][j] = max(matrix[i-1][j] + a, matrix[i][j-1] + a, matrix[i-1][j-1] + b)\n",
    "        else:\n",
    "            # 如果相等，就是match\n",
    "            matrix[i][j] = max(matrix[i-1][j] + a, matrix[i][j-1] + a, matrix[i-1][j-1] + c)\n",
    "# matrix\n",
    "# 打印矩阵\n",
    "print(matrix)\n"
   ]
  },
  {
   "cell_type": "code",
   "execution_count": null,
   "metadata": {},
   "outputs": [],
   "source": [
    "def calculate_direction(locus):# 基于当前坐标计算方向\n",
    "    # 方向，每次使用都更新\n",
    "    i = locus[0]\n",
    "    j = locus[1]\n",
    "    calculateDirections = []\n",
    "    print(i,j)\n",
    "    # 原来的写法没考虑match或者mismatch的情况，如果matchl，那么一定会产生一个方向2，即calculateDirections.extend('2')\n",
    "    print(A[i-1],B[j-1])\n",
    "    if A[i-1] == B[j-1]:\n",
    "        # 如果相等，就是match\n",
    "        print(A[i-1],B[j-1])\n",
    "        calculateDirections.extend('2') # 相等的时候一定可以走对角线\n",
    "        print('match')\n",
    "        pass\n",
    "    else:\n",
    "        if matrix[i-1][j-1].size > 0 and np.any(matrix[i-1][j-1] + b == matrix[i][j]):\n",
    "            calculateDirections.extend('2')\n",
    "        print('mismatch')\n",
    "    # 检查对应位置的序列A得值是否等于序列B的值\n",
    "    # 检查左方  左是0\n",
    "    if matrix[i-1][j].size > 0 and matrix[i-1][j] + a == matrix[i][j]:\n",
    "        calculateDirections.extend('0')\n",
    "        print('左移')\n",
    "    # 检查上方  上是1\n",
    "    if matrix[i][j-1].size > 0 and matrix[i][j-1] + a == matrix[i][j]:\n",
    "        calculateDirections.extend('1')\n",
    "    print(calculateDirections)\n",
    "    return calculateDirections"
   ]
  },
  {
   "cell_type": "code",
   "execution_count": null,
   "metadata": {},
   "outputs": [],
   "source": [
    "# 从pathWays计算新坐标，获得新坐标表列表，第二次计算\n",
    "def calculate_new_locus(pathWays):\n",
    "    new_locuss=[]\n",
    "    Directions = len(pathWays)\n",
    "    print(f\"{'从上游有'}{Directions}{'条路径需要计算'}\")\n",
    "    for path in range(0, Directions): # 索引传入的值（‘方向0’或‘方向1’或‘方向2’）在pathWays中的条目，\n",
    "        lastDirection = pathWays[path].split(',',-1)\n",
    "        zero = lastDirection.count('0')# 左移\n",
    "        one = lastDirection.count('1')# 上移\n",
    "        two = lastDirection.count('2')# 左上移\n",
    "        locuss = (int(OrignLocus[0]) - zero - two, int(OrignLocus[1]) - one - two)\n",
    "        new_locuss.append(locuss)\n",
    "    print(f\"{'从pathway新计算的坐标集合'}{new_locuss}\")\n",
    "    return new_locuss"
   ]
  },
  {
   "cell_type": "code",
   "execution_count": null,
   "metadata": {},
   "outputs": [],
   "source": [
    "# 第二次坐标计算\n",
    "def second_calculate_direction(new_locuss,pathWays):\n",
    "    pWs = len(new_locuss)#这个时候len(new_locuss)一定等于len(pathWays)\n",
    "    print(f\"{'Total'}{pWs}{'个new locuss'}\")#计算结果\n",
    "    localDirectionss = []\n",
    "    addPathways= []\n",
    "    for pW in range(0,pWs):\n",
    "        # 计算新坐标中的每一个值的方向\n",
    "        locus_tuple = new_locuss[pW]\n",
    "        if locus_tuple == (0,0):# locus_tuple坐标为（0，0）的时候，不需要计算方向，直接把这条pathWay加到result中的条目后面。\n",
    "            results.append(pathWays[pW])\n",
    "            print(f\"{'到达终点后pathway的第'}{pW}{'个'}{'路径写入result'}\")#计算结果\n",
    "            continue #跳出本次循环，进入下一次循环\n",
    "        else:# 不到终点就继续计算\n",
    "            localDirections = calculate_direction(locus_tuple)#计算新方向，输出0，1，2，会输出不止一个新方向，\n",
    "            print(f\"{'新方向有'}{localDirections}\")#展示计算结果\n",
    "            for num in range(0,len(localDirections)):\n",
    "                addPathway = pathWays[pW] + ',' + f\"{localDirections[num]}\"#形成新的路径\n",
    "                addPathways.append(addPathway)\n",
    "            #addPathway = pathWays[pW] + ',' + f\"{localDirections[0]}\"#形成新的路径\n",
    "            #print(f\"{'new pathway'}{addPathway}\")#展示新路径\n",
    "            #addPathways.append(addPathway)#把路径添加到路径变量\n",
    "            #print(f\"{'addPathways'}{addPathways}\")#展示路径变量\n",
    "        #localDirections = calculate_direction(locus_tuple)\n",
    "        #localDirectionss.append(localDirections)\n",
    "        #print(localDirectionss)# localDirectionss 在这里是一个列表，列表中的每一个元素都是一个存储了每个方向单独计算的新方向的列表，所以有可能是套娃列表，也有可能是单层列表。\n",
    "    pathWays = addPathways\n",
    "    print(f\"{'pathWays的计算结果'}{pathWays}\")#计算结果\n",
    "    return pathWays\n"
   ]
  },
  {
   "cell_type": "code",
   "execution_count": null,
   "metadata": {},
   "outputs": [],
   "source": [
    "# 第一次计算\n",
    "localDirections = calculate_direction(OrignLocus)\n",
    "R = len(localDirections)\n",
    "for i in range(R):\n",
    "    pathway = f\"{localDirections[i]}\"\n",
    "    pathWays.append(pathway)\n",
    "#localDirections = []\n",
    "#pathWays"
   ]
  },
  {
   "cell_type": "code",
   "execution_count": null,
   "metadata": {},
   "outputs": [],
   "source": [
    "while len(pathWays) != 0:\n",
    "    new_locuss = calculate_new_locus(pathWays)\n",
    "    pathWays = second_calculate_direction(new_locuss, pathWays)\n",
    "#new_locuss = calculate_new_locus(pathWays)\n",
    "#pathWays = second_calculate_direction(new_locuss, pathWays)"
   ]
  },
  {
   "cell_type": "code",
   "execution_count": null,
   "metadata": {},
   "outputs": [],
   "source": [
    "AlignMents = []\n",
    "while results:\n",
    "    path = results.pop()\n",
    "    direction = path.split(',', -1)[2:]\n",
    "    alignA = A\n",
    "    alignB = B\n",
    "    for i in range(0, len(direction)):\n",
    "        if direction[i] == '2':\n",
    "            pass\n",
    "        elif direction[i] == '0':\n",
    "            alignA = alignA[:i] + '-' + alignA[i:]\n",
    "        elif direction[i] == '1':\n",
    "            alignB = alignB[:i] + '-' + alignB[i:]\n",
    "    AlignMents.append([alignA, alignB])\n",
    "AlignMents"
   ]
  },
  {
   "cell_type": "markdown",
   "metadata": {},
   "source": []
  },
  {
   "cell_type": "markdown",
   "metadata": {},
   "source": [
    "# 算法的完整实现"
   ]
  },
  {
   "cell_type": "code",
   "execution_count": null,
   "metadata": {},
   "outputs": [],
   "source": [
    "import numpy as np\n",
    "import pandas as pd\n",
    "import time\n",
    "# 伪代码中的参数\n",
    "a = -1  # gap 罚分 #这个例子是我手算的例子，用来修正算法\n",
    "b = -6  # mismatch 罚分 #这个例子是我手算的例子，用来修正算法\n",
    "c = 10  # match 奖励 #这个例子是我手算的例子，用来修正算法\n",
    "\n",
    "'''\n",
    "    a = -2  # gap 罚分\n",
    "    b = -1  # mismatch 罚分\n",
    "    c = 3  # match 奖励\n",
    "'''\n",
    "\n",
    "# 伪代码中的数据\n",
    "A = \"ATCGGGCTACATCGGGCTACGGATCGGGCTACGAAAAAAAAAAAAAAAAAAAAAA\"\n",
    "B = \"ATCGGATCGGGCTACGATCGGGCTACGATCGCGTTTTTTTAAAAAGAAAAAAAAGGGGGGGGTGTATTGTA\"\n",
    "#A = \"GATTACA\" #这个例子是我手算的例子，用来修正算法\n",
    "#B = \"GCATGCG\" #这个例子是我手算的例子，用来修正算法\n",
    "#A = \"ATCGGGCTACATCGGGCTACGGATCGGGCTACAATCGGGC\"\n",
    "#B = \"ATCGGATCGGGCTACGATCGGGCTACGATCGCGACGATCG\"\n",
    "\n",
    "len_A = len(A)\n",
    "len_B = len(B)\n",
    "# 路径变量\n",
    "pathWays = []\n",
    "# 路径变量的初始值，矩阵的右下角是\n",
    "OrignLocus = (len(A), len(B))\n",
    "# 存储结果\n",
    "results = []\n",
    "# 创建大小为（len(A) + 1） x （len(B) + 1）的矩阵\n",
    "matrix = np.zeros((len_A + 1, len_B + 1))\n",
    "#matrix = pd.DataFrame(np.zeros((len_A + 1, len_B + 1)), index=['-']+list(A), columns=['-']+list(B))\n",
    "\n",
    "# 初始化第一行和第一列\n",
    "for i in range(len_A + 1):\n",
    "    matrix[i][0] = i * a\n",
    "\n",
    "for j in range(len_B + 1):\n",
    "    matrix[0][j] = j * a\n",
    "\n",
    "# 计算打分值\n",
    "for i in range(1, len_A + 1, 1):\n",
    "    # i的取值范围是从1到len(A)+1，在这个例子里是0-6\n",
    "    for j in range(1, len_B + 1, 1):\n",
    "        # 计算矩阵(i,j)处的值\n",
    "        if A[i-1] != B[j-1]:\n",
    "            # 如果不相等，就是mismatch\n",
    "            matrix[i][j] = max(matrix[i-1][j] + a, matrix[i][j-1] + a, matrix[i-1][j-1] + b)\n",
    "        else:\n",
    "            # 如果相等，就是match\n",
    "            matrix[i][j] = max(matrix[i-1][j] + a, matrix[i][j-1] + a, matrix[i-1][j-1] + c)\n",
    "# matrix\n",
    "# 打印矩阵\n",
    "print(matrix)\n"
   ]
  },
  {
   "cell_type": "code",
   "execution_count": null,
   "metadata": {},
   "outputs": [],
   "source": [
    "def calculate_direction(locus):# 基于当前坐标计算方向\n",
    "    # 方向，每次使用都更新\n",
    "    i = locus[0]\n",
    "    j = locus[1]\n",
    "    calculateDirections = []\n",
    "    print(i,j)\n",
    "    # 原来的写法没考虑match或者mismatch的情况，如果matchl，那么一定会产生一个方向2，即calculateDirections.extend('2')\n",
    "    print(A[i-1],B[j-1])\n",
    "    if A[i-1] == B[j-1]:\n",
    "        # 如果相等，就是match\n",
    "        print(A[i-1],B[j-1])\n",
    "        calculateDirections.extend('2') # 相等的时候一定可以走对角线\n",
    "        print('match')\n",
    "        pass\n",
    "    else:\n",
    "        if matrix[i-1][j-1].size > 0 and np.any(matrix[i-1][j-1] + b == matrix[i][j]):\n",
    "            calculateDirections.extend('2')\n",
    "        print('mismatch')\n",
    "    # 检查对应位置的序列A得值是否等于序列B的值\n",
    "    # 检查左方  左是0\n",
    "    if matrix[i-1][j].size > 0 and matrix[i-1][j] + a == matrix[i][j]:\n",
    "        calculateDirections.extend('0')\n",
    "        print('左移')\n",
    "    # 检查上方  上是1\n",
    "    if matrix[i][j-1].size > 0 and matrix[i][j-1] + a == matrix[i][j]:\n",
    "        calculateDirections.extend('1')\n",
    "    print(calculateDirections)\n",
    "    return calculateDirections\n",
    "# 从pathWays计算新坐标，获得新坐标表列表，第二次计算\n",
    "def calculate_new_locus(pathWays):\n",
    "    new_locuss=[]\n",
    "    Directions = len(pathWays)\n",
    "    print(f\"{'从上游有'}{Directions}{'条路径需要计算'}\")\n",
    "    for path in range(0, Directions): # 索引传入的值（‘方向0’或‘方向1’或‘方向2’）在pathWays中的条目，\n",
    "        lastDirection = pathWays[path].split(',',-1)\n",
    "        zero = lastDirection.count('0')# 左移\n",
    "        one = lastDirection.count('1')# 上移\n",
    "        two = lastDirection.count('2')# 左上移\n",
    "        locuss = (int(OrignLocus[0]) - zero - two, int(OrignLocus[1]) - one - two)\n",
    "        new_locuss.append(locuss)\n",
    "    print(f\"{'从pathway新计算的坐标集合'}{new_locuss}\")\n",
    "    return new_locuss\n",
    "# 第二次坐标计算\n",
    "def second_calculate_direction(new_locuss,pathWays):\n",
    "    pWs = len(new_locuss)#这个时候len(new_locuss)一定等于len(pathWays)\n",
    "    print(f\"{'Total'}{pWs}{'个new locuss'}\")#计算结果\n",
    "    localDirectionss = []\n",
    "    addPathways= []\n",
    "    for pW in range(0,pWs):\n",
    "        # 计算新坐标中的每一个值的方向\n",
    "        locus_tuple = new_locuss[pW]\n",
    "        if locus_tuple == (0,0):# locus_tuple坐标为（0，0）的时候，不需要计算方向，直接把这条pathWay加到result中的条目后面。\n",
    "            results.append(pathWays[pW])\n",
    "            print(f\"{'到达终点后pathway的第'}{pW}{'个'}{'路径写入result'}\")#计算结果\n",
    "            continue #跳出本次循环，进入下一次循环\n",
    "        else:# 不到终点就继续计算\n",
    "            localDirections = calculate_direction(locus_tuple)#计算新方向，输出0，1，2，会输出不止一个新方向，\n",
    "            print(f\"{'新方向有'}{localDirections}\")#展示计算结果\n",
    "            for num in range(0,len(localDirections)):\n",
    "                addPathway = pathWays[pW] + ',' + f\"{localDirections[num]}\"#形成新的路径\n",
    "                addPathways.append(addPathway)\n",
    "    print(f\"{'pathWays的计算结果'}{pathWays}\")#计算结果\n",
    "    return addPathways\n"
   ]
  },
  {
   "cell_type": "code",
   "execution_count": null,
   "metadata": {},
   "outputs": [],
   "source": [
    "%%time\n",
    "localDirections = calculate_direction(OrignLocus)\n",
    "R = len(localDirections)\n",
    "for i in range(R):\n",
    "    pathway = f\"{localDirections[i]}\"\n",
    "    pathWays.append(pathway)\n",
    "while len(pathWays) != 0:\n",
    "    new_locuss = calculate_new_locus(pathWays)\n",
    "    pathWays = second_calculate_direction(new_locuss, pathWays)\n",
    "AlignMents = []\n",
    "while results:\n",
    "    path = results.pop()[::-1]\n",
    "    direction = path.split(',', -1)\n",
    "    alignA = A\n",
    "    alignB = B\n",
    "    for i in range(0, len(direction)):\n",
    "        if direction[i] == '2':\n",
    "            pass\n",
    "        elif direction[i] == '0':\n",
    "            alignA = alignA[:i] + '-' + alignA[i:]\n",
    "        elif direction[i] == '1':\n",
    "            alignB = alignB[:i] + '-' + alignB[i:]\n",
    "    AlignMents.append([alignA, alignB])\n",
    "AlignMents"
   ]
  },
  {
   "cell_type": "code",
   "execution_count": null,
   "metadata": {},
   "outputs": [],
   "source": [
    "pathWays = ['1,1,1,1,1,2,1,2,2,2,2,2,2,2,2,2,2,2,0,2,2,2,2,2,2,2,2,2,2,0,0,0,0,2,2,0,2,2,2',\n",
    " '1,1,1,1,1,2,1,2,2,2,2,2,2,2,2,2,2,2,0,2,2,2,2,2,2,2,2,2,2,0,0,0,0,2,0,2,2,2,2',\n",
    " '1,1,1,1,1,2,1,2,2,2,2,2,2,2,2,2,2,2,0,2,2,2,2,2,2,2,2,2,2,0,0,0,0,0,2,2,2,2,2',\n",
    " '1,1,1,1,1,2,1,2,2,2,2,2,2,2,2,2,2,2,0,2,2,2,2,2,2,2,2,2,0,0,2,0,0,2,2,0,2,2,2',\n",
    " '1,1,1,1,1,2,1,2,2,2,2,2,2,2,2,2,2,2,0,2,2,2,2,2,2,2,2,2,0,0,2,0,0,2,0,2,2,2,2',\n",
    " '1,1,1,1,1,2,1,2,2,2,2,2,2,2,2,2,2,2,0,2,2,2,2,2,2,2,2,2,0,0,2,0,0,0,2,2,2,2,2',\n",
    " '1,1,1,1,1,2,1,2,2,2,2,2,2,2,2,2,2,0,2,2,2,2,2,2,2,2,2,2,2,0,0,0,0,2,2,0,2,2,2',\n",
    " '1,1,1,1,1,2,1,2,2,2,2,2,2,2,2,2,2,0,2,2,2,2,2,2,2,2,2,2,2,0,0,0,0,2,0,2,2,2,2',\n",
    " '1,1,1,1,1,2,1,2,2,2,2,2,2,2,2,2,2,0,2,2,2,2,2,2,2,2,2,2,2,0,0,0,0,0,2,2,2,2,2',\n",
    " '1,1,1,1,1,2,1,2,2,2,2,2,2,2,2,2,2,0,2,2,2,2,2,2,2,2,2,2,0,0,2,0,0,2,2,0,2,2,2',\n",
    " '1,1,1,1,1,2,1,2,2,2,2,2,2,2,2,2,2,0,2,2,2,2,2,2,2,2,2,2,0,0,2,0,0,2,0,2,2,2,2',\n",
    " '1,1,1,1,1,2,1,2,2,2,2,2,2,2,2,2,2,0,2,2,2,2,2,2,2,2,2,2,0,0,2,0,0,0,2,2,2,2,2']"
   ]
  },
  {
   "cell_type": "code",
   "execution_count": null,
   "metadata": {},
   "outputs": [],
   "source": [
    "results"
   ]
  },
  {
   "cell_type": "code",
   "execution_count": null,
   "metadata": {},
   "outputs": [],
   "source": [
    "AlignMents = []\n",
    "while results:\n",
    "    path = results.pop()[::-1]\n",
    "    direction = path.split(',', -1)\n",
    "    alignA = A\n",
    "    alignB = B\n",
    "    for nd in range(0, len(direction)):\n",
    "        if direction[nd] == '2':\n",
    "            pass\n",
    "        elif direction[nd] == '0':\n",
    "            alignA = alignA[:nd] + '-' + alignA[nd:]\n",
    "        elif direction[nd] == '1':\n",
    "            alignB = alignB[:nd] + '-' + alignB[nd:]\n",
    "    AlignMents.append([alignA, alignB])\n",
    "AlignMents"
   ]
  },
  {
   "cell_type": "markdown",
   "metadata": {},
   "source": [
    "# 加速函数实现\n",
    "- 放弃字符串，整体上使用numba numpy的array\n",
    "- 使用了 NumPy 的数组切片和 np.arange 来初始化矩阵的第一行和第一列，这比逐个元素赋值更快\n",
    "将条件判断和分数计算合并为一行来减少代码量。这些更改可以提高代码的效率。"
   ]
  },
  {
   "cell_type": "code",
   "execution_count": 7,
   "metadata": {},
   "outputs": [],
   "source": [
    "# 定义环境\n",
    "import numpy as np\n",
    "import time\n",
    "from numba import jit,int32,types\n",
    "from numba.typed import List\n",
    "#A = \"ATCGGGCTACATCGGGCTACGGATCGGGCTACGAAAAAAAAAAAAAAAAAAAAAA\"\n",
    "#B = \"ATCGGATCGGGCTACGATCGGGCTACGATCGCGTTTTTTTAAAAAGAAAAAAAAGGGGGGGGTGTATTGTA\"\n",
    "A = str(\"ATCGGGCTACATCGGGCTACGGATCGGGCTACGAAAAAAAAAAAAAAAAAAAAAA\")\n",
    "B = str(\"ATCGGATCGGGCTACGATCGGGCTACGATCGCGTTTTTTTAAAAAGAAAAAAAAGGGGGGGGTGTATTGTA\")\n",
    "len_A = int32(len(A))\n",
    "len_B = int32(len(B))\n",
    "a = int32(-1)  # gap 罚分 #这个例子是我手算的例子，用来修正算法\n",
    "b = int32(-6) # mismatch 罚分 #这个例子是我手算的例子，用来修正算法\n",
    "c = int32(10)  # match 奖励 #这个例子是我手算的例子，用来修正算法\n",
    "OrignLocus = (len_A, len_B)\n",
    "left = int32(0)\n",
    "up = int32(1)\n",
    "left_up = int32(2)\n",
    "\n",
    "@jit(nopython=True) # 打分矩阵\n",
    "def score_matrix(A, B, a, b, c, len_A, len_B):\n",
    "    matrix = np.zeros((len_A + 1, len_B + 1), dtype=np.int32)\n",
    "    matrix[:, 0] = np.arange(len_A + 1) * a\n",
    "    matrix[0, :] = np.arange(len_B + 1) * a\n",
    "    for i in range(1, len_A + 1):\n",
    "        for j in range(1, len_B + 1):\n",
    "            match = A[i-1] == B[j-1]\n",
    "            score = c if match else b\n",
    "            matrix[i, j] = max(matrix[i-1, j] + a, matrix[i, j-1] + a, matrix[i-1, j-1] + score)\n",
    "    return matrix\n",
    "matrix = score_matrix(A, B, a, b, c, len_A, len_B)\n",
    "\n",
    "seqA = A\n",
    "seqB = B\n",
    "@jit(nopython=True)\n",
    "def build_match_table(seq1, seq2):\n",
    "    len_seq1 = len(seq1)\n",
    "    len_seq2 = len(seq2)\n",
    "    match_table = np.zeros((len_seq1, len_seq2), dtype=np.bool_)\n",
    "    for i in range(len_seq1):\n",
    "        for j in range(len_seq2):\n",
    "            match_table[i][j] = seq1[i] == seq2[j]\n",
    "    return match_table\n",
    "# 构建匹配表\n",
    "match_table = build_match_table(seqA, seqB)\n",
    "\n",
    "# 通用函数计算方向\n",
    "@jit(nopython=True)\n",
    "def calculate_direction(locus_tuple, a, b, match_table, matrix, left, up, left_up):\n",
    "    i, j = locus_tuple\n",
    "    calculateDirections = []\n",
    "    matrix_i_1_j_1 = matrix[i-1][j-1]\n",
    "    matrix_i_1_j = matrix[i-1][j]\n",
    "    matrix_i_j_1 = matrix[i][j-1]\n",
    "    matrix_i_j = matrix[i][j]\n",
    "    if match_table[i][j]:\n",
    "        calculateDirections.append(left_up)  # 相等的时候一定可以走对角线\n",
    "    else:\n",
    "        if matrix_i_1_j_1 + b == matrix_i_j:\n",
    "            calculateDirections.append(left_up)\n",
    "    if matrix_i_1_j + a == matrix_i_j:\n",
    "        calculateDirections.append(left)\n",
    "    if matrix_i_j_1 + a == matrix_i_j:\n",
    "        calculateDirections.append(up)\n",
    "    return calculateDirections\n",
    "# 新坐标\n",
    "def calculate_new_locus(pathWays):\n",
    "    new_locuss = np.empty((len(pathWays), 2), dtype=np.int32)\n",
    "    for idx, path in enumerate(pathWays):\n",
    "        zero = np.sum(np.where(path == np.int32(0), 1, 0))\n",
    "        one = np.sum(np.where(path == np.int32(1), 1, 0))\n",
    "        two = np.sum(np.where(path == np.int32(2), 1, 0))\n",
    "        locuss = (OrignLocus[0] - zero - two, OrignLocus[1] - one - two)\n",
    "        new_locuss[idx] = locuss\n",
    "    return new_locuss"
   ]
  },
  {
   "cell_type": "markdown",
   "metadata": {},
   "source": [
    "####  打分矩阵"
   ]
  },
  {
   "cell_type": "code",
   "execution_count": 11,
   "metadata": {},
   "outputs": [],
   "source": [
    "@jit(nopython=True) # 打分矩阵\n",
    "def score_matrix(A, B, a, b, c, len_A, len_B):\n",
    "    matrix = np.zeros((len_A + 1, len_B + 1), dtype=np.int32)\n",
    "    matrix[:, 0] = np.arange(len_A + 1) * a\n",
    "    matrix[0, :] = np.arange(len_B + 1) * a\n",
    "    for i in range(1, len_A + 1):\n",
    "        for j in range(1, len_B + 1):\n",
    "            match = A[i-1] == B[j-1]\n",
    "            score = c if match else b\n",
    "            matrix[i, j] = max(matrix[i-1, j] + a, matrix[i, j-1] + a, matrix[i-1, j-1] + score)\n",
    "    return matrix\n"
   ]
  },
  {
   "cell_type": "code",
   "execution_count": null,
   "metadata": {},
   "outputs": [],
   "source": [
    "%%time\n",
    "matrix = score_matrix(A, B, a, b, c, len_A, len_B)"
   ]
  },
  {
   "cell_type": "markdown",
   "metadata": {},
   "source": [
    "#### 构建匹配表"
   ]
  },
  {
   "cell_type": "code",
   "execution_count": 1,
   "metadata": {},
   "outputs": [
    {
     "ename": "NameError",
     "evalue": "name 'A' is not defined",
     "output_type": "error",
     "traceback": [
      "\u001b[0;31m---------------------------------------------------------------------------\u001b[0m",
      "\u001b[0;31mNameError\u001b[0m                                 Traceback (most recent call last)",
      "File \u001b[0;32m<timed exec>:1\u001b[0m\n",
      "\u001b[0;31mNameError\u001b[0m: name 'A' is not defined"
     ]
    }
   ],
   "source": [
    "%%time\n",
    "seqA = A\n",
    "seqB = B\n",
    "@jit(nopython=True)\n",
    "def build_match_table(seq1, seq2):\n",
    "    len_seq1 = len(seq1)\n",
    "    len_seq2 = len(seq2)\n",
    "    match_table = np.zeros((len_seq1, len_seq2), dtype=np.bool_)\n",
    "    for i in range(len_seq1):\n",
    "        for j in range(len_seq2):\n",
    "            match_table[i][j] = seq1[i] == seq2[j]\n",
    "    return match_table\n",
    "# 构建匹配表\n",
    "match_table = build_match_table(seqA, seqB)\n"
   ]
  },
  {
   "cell_type": "markdown",
   "metadata": {},
   "source": [
    "#### 计算方向"
   ]
  },
  {
   "cell_type": "code",
   "execution_count": null,
   "metadata": {},
   "outputs": [],
   "source": [
    "%%time\n",
    "# 通用函数计算方向\n",
    "@jit(nopython=True)\n",
    "def calculate_direction(locus_tuple, a, b, match_table, matrix, left, up, left_up):\n",
    "    i, j = locus_tuple\n",
    "    calculateDirections = []\n",
    "    matrix_i_1_j_1 = matrix[i-1][j-1]\n",
    "    matrix_i_1_j = matrix[i-1][j]\n",
    "    matrix_i_j_1 = matrix[i][j-1]\n",
    "    matrix_i_j = matrix[i][j]\n",
    "    if match_table[i][j]:\n",
    "        calculateDirections.append(left_up)  # 相等的时候一定可以走对角线\n",
    "    else:\n",
    "        if matrix_i_1_j_1 + b == matrix_i_j:\n",
    "            calculateDirections.append(left_up)\n",
    "    if matrix_i_1_j + a == matrix_i_j:\n",
    "        calculateDirections.append(left)\n",
    "    if matrix_i_j_1 + a == matrix_i_j:\n",
    "        calculateDirections.append(up)\n",
    "    return calculateDirections\n"
   ]
  },
  {
   "cell_type": "markdown",
   "metadata": {},
   "source": [
    "查表获得序列匹配结果，"
   ]
  },
  {
   "cell_type": "code",
   "execution_count": null,
   "metadata": {},
   "outputs": [],
   "source": [
    "def preprocess_pathways(pathWays):\n",
    "    # 将字符串转换为 NumPy 数组\n",
    "    processed_pathWays = []\n",
    "    for path in pathWays:\n",
    "        directions = np.array([int(d) for d in path.split(',')], dtype=np.int32)\n",
    "        processed_pathWays.append(directions)\n",
    "    return processed_pathWays"
   ]
  },
  {
   "cell_type": "markdown",
   "metadata": {},
   "source": [
    "#### 计算新坐标\n",
    "- 返回一个new_locus，是一个array"
   ]
  },
  {
   "cell_type": "code",
   "execution_count": 55,
   "metadata": {},
   "outputs": [
    {
     "name": "stdout",
     "output_type": "stream",
     "text": [
      "CPU times: user 187 µs, sys: 5 µs, total: 192 µs\n",
      "Wall time: 217 µs\n"
     ]
    }
   ],
   "source": [
    "%%time\n",
    "@jit(nopython=True,parallel=True)\n",
    "def calculate_new_locus(pathWays):\n",
    "    new_locuss = np.empty((len(pathWays), 2), dtype=np.int32)\n",
    "    for idx, path in enumerate(pathWays):\n",
    "        zero = np.sum(np.where(path == np.int32(0), 1, 0))\n",
    "        one = np.sum(np.where(path == np.int32(1), 1, 0))\n",
    "        two = np.sum(np.where(path == np.int32(2), 1, 0))\n",
    "        locuss = (OrignLocus[0] - zero - two, OrignLocus[1] - one - two)\n",
    "        new_locuss[idx] = locuss\n",
    "    return new_locuss\n"
   ]
  },
  {
   "cell_type": "markdown",
   "metadata": {},
   "source": [
    "#### 计算坐标循环体"
   ]
  },
  {
   "cell_type": "code",
   "execution_count": 6,
   "metadata": {},
   "outputs": [
    {
     "name": "stderr",
     "output_type": "stream",
     "text": [
      "/var/folders/6c/33tr6btx0g32l4wn_9kvdcjw0000gn/T/ipykernel_93166/3981766319.py:5: NumbaDeprecationWarning: \u001b[1mThe 'nopython' keyword argument was not supplied to the 'numba.jit' decorator. The implicit default value for this argument is currently False, but it will be changed to True in Numba 0.59.0. See https://numba.readthedocs.io/en/stable/reference/deprecation.html#deprecation-of-object-mode-fall-back-behaviour-when-using-jit for details.\u001b[0m\n",
      "  @jit\n"
     ]
    }
   ],
   "source": [
    "\n",
    "from numba.typed import List\n",
    "from numba import njit, prange\n",
    "import numba\n",
    "addPathways = List()\n",
    "@jit\n",
    "def second_calculate_direction(new_locuss, pathWays, a, b, match_table, matrix):\n",
    "    for pW in range(len(new_locuss)):\n",
    "        locus_tuple = new_locuss[pW]\n",
    "        if locus_tuple[0] == 0 and locus_tuple[1] == 0:\n",
    "            addPathways.append(pathWays[pW])\n",
    "        else:\n",
    "            localDirections = calculate_direction(locus_tuple, a, b, match_table, matrix, left, up, left_up)\n",
    "            for num in range(len(localDirections)):\n",
    "                addPathway = np.append(pathWays[pW], localDirections[num])\n",
    "                addPathways.append(addPathway)\n",
    "    return addPathways"
   ]
  },
  {
   "cell_type": "code",
   "execution_count": 34,
   "metadata": {},
   "outputs": [],
   "source": [
    "from multiprocessing import Pool\n",
    "\n",
    "def process_single_locus(locus_tuple, pathWays, a, b, match_table, matrix, left, up, left_up):\n",
    "    addPathways = []\n",
    "    if locus_tuple[0] == 0 and locus_tuple[1] == 0:\n",
    "        addPathways.append(pathWays[locus_tuple[2]])\n",
    "    else:\n",
    "        localDirections = calculate_direction(locus_tuple, a, b, match_table, matrix, left, up, left_up)\n",
    "        for num in localDirections:\n",
    "            addPathway = np.append(pathWays[locus_tuple[2]], num)\n",
    "            addPathways.append(addPathway)\n",
    "    return addPathways\n",
    "\n",
    "\n",
    "def second_calculate_direction(new_locuss, pathWays, a, b, match_table, matrix, left, up, left_up):\n",
    "    #pathWays_list = pathWays.tolist()  # 将 NumPy 数组转换为列表\n",
    "    with Pool() as pool:\n",
    "        results = pool.starmap(process_single_locus, [(locus_tuple, pathWays, a, b, match_table, matrix, left, up, left_up) for locus_tuple in new_locuss])\n",
    "    # 合并所有进程的结果\n",
    "    addPathways = [item for sublist in results for item in sublist]\n",
    "    return addPathways\n",
    "\n",
    "\n",
    "# 调用 second_calculate_direction\n"
   ]
  },
  {
   "cell_type": "markdown",
   "metadata": {},
   "source": [
    "#### 定义pathWays"
   ]
  },
  {
   "cell_type": "code",
   "execution_count": 30,
   "metadata": {},
   "outputs": [
    {
     "name": "stdout",
     "output_type": "stream",
     "text": [
      "CPU times: user 45 µs, sys: 0 ns, total: 45 µs\n",
      "Wall time: 47.2 µs\n"
     ]
    }
   ],
   "source": [
    "%%time\n",
    "# 计算新方向并更新路径 # 示例坐标\n",
    "localDirections = calculate_direction(OrignLocus, a, b, match_table, matrix, left, up, left_up)\n",
    "R = len(localDirections)\n",
    "pathWays = []\n",
    "for i in range(R):\n",
    "    pathway = int32(localDirections[i])\n",
    "    pathWays.append(pathway)"
   ]
  },
  {
   "cell_type": "markdown",
   "metadata": {},
   "source": [
    "#### 循环体"
   ]
  },
  {
   "cell_type": "code",
   "execution_count": 28,
   "metadata": {},
   "outputs": [],
   "source": [
    "number = 1"
   ]
  },
  {
   "cell_type": "code",
   "execution_count": 35,
   "metadata": {},
   "outputs": [
    {
     "name": "stdout",
     "output_type": "stream",
     "text": [
      "1\n"
     ]
    },
    {
     "name": "stderr",
     "output_type": "stream",
     "text": [
      "Process SpawnPoolWorker-21:\n",
      "Process SpawnPoolWorker-22:\n",
      "Traceback (most recent call last):\n",
      "Traceback (most recent call last):\n",
      "  File \"/Users/sunhao/anaconda3/lib/python3.11/multiprocessing/process.py\", line 314, in _bootstrap\n",
      "    self.run()\n",
      "  File \"/Users/sunhao/anaconda3/lib/python3.11/multiprocessing/process.py\", line 108, in run\n",
      "    self._target(*self._args, **self._kwargs)\n",
      "  File \"/Users/sunhao/anaconda3/lib/python3.11/multiprocessing/pool.py\", line 114, in worker\n",
      "    task = get()\n",
      "           ^^^^^\n",
      "  File \"/Users/sunhao/anaconda3/lib/python3.11/multiprocessing/queues.py\", line 367, in get\n",
      "    return _ForkingPickler.loads(res)\n",
      "           ^^^^^^^^^^^^^^^^^^^^^^^^^^\n",
      "AttributeError: Can't get attribute 'process_single_locus' on <module '__main__' (built-in)>\n",
      "  File \"/Users/sunhao/anaconda3/lib/python3.11/multiprocessing/process.py\", line 314, in _bootstrap\n",
      "    self.run()\n",
      "  File \"/Users/sunhao/anaconda3/lib/python3.11/multiprocessing/process.py\", line 108, in run\n",
      "    self._target(*self._args, **self._kwargs)\n",
      "  File \"/Users/sunhao/anaconda3/lib/python3.11/multiprocessing/pool.py\", line 114, in worker\n",
      "    task = get()\n",
      "           ^^^^^\n",
      "  File \"/Users/sunhao/anaconda3/lib/python3.11/multiprocessing/queues.py\", line 367, in get\n",
      "    return _ForkingPickler.loads(res)\n",
      "           ^^^^^^^^^^^^^^^^^^^^^^^^^^\n",
      "AttributeError: Can't get attribute 'process_single_locus' on <module '__main__' (built-in)>\n"
     ]
    },
    {
     "ename": "KeyboardInterrupt",
     "evalue": "",
     "output_type": "error",
     "traceback": [
      "\u001b[0;31m---------------------------------------------------------------------------\u001b[0m",
      "\u001b[0;31mKeyboardInterrupt\u001b[0m                         Traceback (most recent call last)",
      "File \u001b[0;32m<timed exec>:4\u001b[0m\n",
      "Cell \u001b[0;32mIn[34], line 18\u001b[0m, in \u001b[0;36msecond_calculate_direction\u001b[0;34m(new_locuss, pathWays, a, b, match_table, matrix, left, up, left_up)\u001b[0m\n\u001b[1;32m     15\u001b[0m \u001b[38;5;28;01mdef\u001b[39;00m \u001b[38;5;21msecond_calculate_direction\u001b[39m(new_locuss, pathWays, a, b, match_table, matrix, left, up, left_up):\n\u001b[1;32m     16\u001b[0m     \u001b[38;5;66;03m#pathWays_list = pathWays.tolist()  # 将 NumPy 数组转换为列表\u001b[39;00m\n\u001b[1;32m     17\u001b[0m     \u001b[38;5;28;01mwith\u001b[39;00m Pool() \u001b[38;5;28;01mas\u001b[39;00m pool:\n\u001b[0;32m---> 18\u001b[0m         results \u001b[38;5;241m=\u001b[39m pool\u001b[38;5;241m.\u001b[39mstarmap(process_single_locus, [(locus_tuple, pathWays, a, b, match_table, matrix, left, up, left_up) \u001b[38;5;28;01mfor\u001b[39;00m locus_tuple \u001b[38;5;129;01min\u001b[39;00m new_locuss])\n\u001b[1;32m     19\u001b[0m     \u001b[38;5;66;03m# 合并所有进程的结果\u001b[39;00m\n\u001b[1;32m     20\u001b[0m     addPathways \u001b[38;5;241m=\u001b[39m [item \u001b[38;5;28;01mfor\u001b[39;00m sublist \u001b[38;5;129;01min\u001b[39;00m results \u001b[38;5;28;01mfor\u001b[39;00m item \u001b[38;5;129;01min\u001b[39;00m sublist]\n",
      "File \u001b[0;32m~/anaconda3/lib/python3.11/multiprocessing/pool.py:375\u001b[0m, in \u001b[0;36mPool.starmap\u001b[0;34m(self, func, iterable, chunksize)\u001b[0m\n\u001b[1;32m    369\u001b[0m \u001b[38;5;28;01mdef\u001b[39;00m \u001b[38;5;21mstarmap\u001b[39m(\u001b[38;5;28mself\u001b[39m, func, iterable, chunksize\u001b[38;5;241m=\u001b[39m\u001b[38;5;28;01mNone\u001b[39;00m):\n\u001b[1;32m    370\u001b[0m \u001b[38;5;250m    \u001b[39m\u001b[38;5;124;03m'''\u001b[39;00m\n\u001b[1;32m    371\u001b[0m \u001b[38;5;124;03m    Like `map()` method but the elements of the `iterable` are expected to\u001b[39;00m\n\u001b[1;32m    372\u001b[0m \u001b[38;5;124;03m    be iterables as well and will be unpacked as arguments. Hence\u001b[39;00m\n\u001b[1;32m    373\u001b[0m \u001b[38;5;124;03m    `func` and (a, b) becomes func(a, b).\u001b[39;00m\n\u001b[1;32m    374\u001b[0m \u001b[38;5;124;03m    '''\u001b[39;00m\n\u001b[0;32m--> 375\u001b[0m     \u001b[38;5;28;01mreturn\u001b[39;00m \u001b[38;5;28mself\u001b[39m\u001b[38;5;241m.\u001b[39m_map_async(func, iterable, starmapstar, chunksize)\u001b[38;5;241m.\u001b[39mget()\n",
      "File \u001b[0;32m~/anaconda3/lib/python3.11/multiprocessing/pool.py:768\u001b[0m, in \u001b[0;36mApplyResult.get\u001b[0;34m(self, timeout)\u001b[0m\n\u001b[1;32m    767\u001b[0m \u001b[38;5;28;01mdef\u001b[39;00m \u001b[38;5;21mget\u001b[39m(\u001b[38;5;28mself\u001b[39m, timeout\u001b[38;5;241m=\u001b[39m\u001b[38;5;28;01mNone\u001b[39;00m):\n\u001b[0;32m--> 768\u001b[0m     \u001b[38;5;28mself\u001b[39m\u001b[38;5;241m.\u001b[39mwait(timeout)\n\u001b[1;32m    769\u001b[0m     \u001b[38;5;28;01mif\u001b[39;00m \u001b[38;5;129;01mnot\u001b[39;00m \u001b[38;5;28mself\u001b[39m\u001b[38;5;241m.\u001b[39mready():\n\u001b[1;32m    770\u001b[0m         \u001b[38;5;28;01mraise\u001b[39;00m \u001b[38;5;167;01mTimeoutError\u001b[39;00m\n",
      "File \u001b[0;32m~/anaconda3/lib/python3.11/multiprocessing/pool.py:765\u001b[0m, in \u001b[0;36mApplyResult.wait\u001b[0;34m(self, timeout)\u001b[0m\n\u001b[1;32m    764\u001b[0m \u001b[38;5;28;01mdef\u001b[39;00m \u001b[38;5;21mwait\u001b[39m(\u001b[38;5;28mself\u001b[39m, timeout\u001b[38;5;241m=\u001b[39m\u001b[38;5;28;01mNone\u001b[39;00m):\n\u001b[0;32m--> 765\u001b[0m     \u001b[38;5;28mself\u001b[39m\u001b[38;5;241m.\u001b[39m_event\u001b[38;5;241m.\u001b[39mwait(timeout)\n",
      "File \u001b[0;32m~/anaconda3/lib/python3.11/threading.py:622\u001b[0m, in \u001b[0;36mEvent.wait\u001b[0;34m(self, timeout)\u001b[0m\n\u001b[1;32m    620\u001b[0m signaled \u001b[38;5;241m=\u001b[39m \u001b[38;5;28mself\u001b[39m\u001b[38;5;241m.\u001b[39m_flag\n\u001b[1;32m    621\u001b[0m \u001b[38;5;28;01mif\u001b[39;00m \u001b[38;5;129;01mnot\u001b[39;00m signaled:\n\u001b[0;32m--> 622\u001b[0m     signaled \u001b[38;5;241m=\u001b[39m \u001b[38;5;28mself\u001b[39m\u001b[38;5;241m.\u001b[39m_cond\u001b[38;5;241m.\u001b[39mwait(timeout)\n\u001b[1;32m    623\u001b[0m \u001b[38;5;28;01mreturn\u001b[39;00m signaled\n",
      "File \u001b[0;32m~/anaconda3/lib/python3.11/threading.py:320\u001b[0m, in \u001b[0;36mCondition.wait\u001b[0;34m(self, timeout)\u001b[0m\n\u001b[1;32m    318\u001b[0m \u001b[38;5;28;01mtry\u001b[39;00m:    \u001b[38;5;66;03m# restore state no matter what (e.g., KeyboardInterrupt)\u001b[39;00m\n\u001b[1;32m    319\u001b[0m     \u001b[38;5;28;01mif\u001b[39;00m timeout \u001b[38;5;129;01mis\u001b[39;00m \u001b[38;5;28;01mNone\u001b[39;00m:\n\u001b[0;32m--> 320\u001b[0m         waiter\u001b[38;5;241m.\u001b[39macquire()\n\u001b[1;32m    321\u001b[0m         gotit \u001b[38;5;241m=\u001b[39m \u001b[38;5;28;01mTrue\u001b[39;00m\n\u001b[1;32m    322\u001b[0m     \u001b[38;5;28;01melse\u001b[39;00m:\n",
      "\u001b[0;31mKeyboardInterrupt\u001b[0m: "
     ]
    }
   ],
   "source": [
    "%%time\n",
    "while len(pathWays) != 0:\n",
    "    print(number)\n",
    "    new_locuss = calculate_new_locus(pathWays)\n",
    "    pathWays = second_calculate_direction(new_locuss, pathWays, a, b, match_table, matrix, left, up, left_up)\n",
    "    number += 1"
   ]
  },
  {
   "cell_type": "code",
   "execution_count": null,
   "metadata": {},
   "outputs": [],
   "source": []
  }
 ],
 "metadata": {
  "kernelspec": {
   "display_name": "base",
   "language": "python",
   "name": "python3"
  },
  "language_info": {
   "codemirror_mode": {
    "name": "ipython",
    "version": 3
   },
   "file_extension": ".py",
   "mimetype": "text/x-python",
   "name": "python",
   "nbconvert_exporter": "python",
   "pygments_lexer": "ipython3",
   "version": "3.11.4"
  }
 },
 "nbformat": 4,
 "nbformat_minor": 2
}
